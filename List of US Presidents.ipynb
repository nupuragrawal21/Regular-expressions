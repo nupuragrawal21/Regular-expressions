{
 "cells": [
  {
   "cell_type": "code",
   "execution_count": 1,
   "metadata": {},
   "outputs": [
    {
     "data": {
      "text/plain": [
       "<Figure size 3500x2000 with 1 Axes>"
      ]
     },
     "metadata": {},
     "output_type": "display_data"
    }
   ],
   "source": [
    "import urllib\n",
    "import re\n",
    "import requests\n",
    "import datetime\n",
    "import pandas as pd\n",
    "import matplotlib.pyplot as plt\n",
    "import numpy as np\n",
    "import matplotlib.dates as mdates\n",
    "import datetime\n",
    "\n",
    "\n",
    "\n",
    "def getPresidents(url):\n",
    "    urlreq = requests.get(url)  \n",
    "    urltext = urlreq.text\n",
    "    matches=re.findall(r'<big><a href=\"(.*?)\"\\stitle=\"',urltext)\n",
    "    string1 = \"https://en.wikipedia.org\"\n",
    "    president_links=[]\n",
    "    for i in range(len(matches)):\n",
    "        president_links.append(string1+matches[i])\n",
    "    del president_links[23]\n",
    "    return(president_links)\n",
    "getPresidents(\"https://en.wikipedia.org/wiki/List_of_Presidents_of_the_United_States\")\n",
    "\n",
    "def getBirthdays(urllist):\n",
    "    birthdays=[]\n",
    "    presidents=[]\n",
    "    for l in urllist:\n",
    "        urlreq = requests.get(l)  \n",
    "        urltext = urlreq.text\n",
    "        birthdays.append(re.findall(r'=\"bday\">(.*?)</span>',urltext))\n",
    "        presidents.append(re.findall(r'\"firstHeading\"\\slang=\"en\">(.*?)</h1>',urltext))\n",
    "    b=[]\n",
    "    president_names=[]\n",
    "    for i in range(len(birthdays)):\n",
    "        b.append(birthdays[i][0])\n",
    "        president_names.append(presidents[i][0])\n",
    "    birthdates=[]\n",
    "    for birth_date in b:\n",
    "        birthdates.append(datetime.datetime.strptime(birth_date, '%Y-%m-%d').date())\n",
    "    df = pd.DataFrame({\"Presidents\": president_names, \"Birthdates\": birthdates})   \n",
    "    return df\n",
    "url_list=getPresidents(\"https://en.wikipedia.org/wiki/List_of_Presidents_of_the_United_States\")\n",
    "getBirthdays(url_list)\n",
    "\n",
    "\n",
    "\n",
    "url_list=getPresidents(\"https://en.wikipedia.org/wiki/List_of_Presidents_of_the_United_States\")\n",
    "df=getBirthdays(url_list)\n",
    "name_Presidents=list(df['Presidents'])\n",
    "list_presidentBday=list(df['Birthdates'])\n",
    "lines = np.array([-5, 5, -3, 3, -1, 1])\n",
    "fig, ax = plt.subplots(figsize=(35, 20))\n",
    "\n",
    "start = min(list_presidentBday)\n",
    "stop = max(list_presidentBday)\n",
    "ax.plot((start, stop), (0, 0), 'k', alpha=.5)\n",
    "\n",
    "# Iterate through releases annotating each one\n",
    "for ii, (iname, idate) in enumerate(zip(name_Presidents, list_presidentBday)):\n",
    "    level = lines[ii % 6]\n",
    "    vert = 'top' if level < 0 else 'bottom'\n",
    "\n",
    "    ax.scatter(idate, 0, s=30, facecolor='w', edgecolor='k', zorder=9999)\n",
    "    ax.plot((idate, idate), (0, level), c='r', alpha=.7)\n",
    "    ax.text(idate, level, iname,\n",
    "            horizontalalignment='right', verticalalignment=vert, fontsize=20,\n",
    "            backgroundcolor=(1., 1., 1., .3))\n",
    "ax.set(title=\"TimeLine of US Presidents\")\n",
    "\n",
    "ax.get_xaxis().set_major_locator(mdates.MonthLocator(interval=100) )\n",
    "ax.get_xaxis().set_major_formatter(mdates.DateFormatter(\"%b %Y\"))\n",
    "fig.autofmt_xdate()\n",
    "\n",
    "plt.show()"
   ]
  },
  {
   "cell_type": "code",
   "execution_count": null,
   "metadata": {},
   "outputs": [],
   "source": []
  }
 ],
 "metadata": {
  "kernelspec": {
   "display_name": "Python 3",
   "language": "python",
   "name": "python3"
  },
  "language_info": {
   "codemirror_mode": {
    "name": "ipython",
    "version": 3
   },
   "file_extension": ".py",
   "mimetype": "text/x-python",
   "name": "python",
   "nbconvert_exporter": "python",
   "pygments_lexer": "ipython3",
   "version": "3.6.5"
  }
 },
 "nbformat": 4,
 "nbformat_minor": 2
}
